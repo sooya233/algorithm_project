{
 "cells": [
  {
   "cell_type": "code",
   "execution_count": 21,
   "id": "8c9f9cb0",
   "metadata": {},
   "outputs": [],
   "source": [
    "'''\n",
    "around stations 자료구조 형태\n",
    "{01호선 : [{이전역 : 시간}, {다음역 : 시간}]}\n",
    "\n",
    "'''\n",
    "\n",
    "class Station:\n",
    "    def __init__(self, name, lines, latitude, longtitude, around_stations):\n",
    "        self.name = name\n",
    "        self.lines = lines\n",
    "        self.latitude = latitude\n",
    "        self.longtitude = longtitude\n",
    "        self.around_stations = around_stations #dictionary\n",
    "    \n",
    "    def print(self):\n",
    "        print(\"name: \" + self.name)\n",
    "        print(\"lines: \", self.lines)\n",
    "        print(\"latitude: \" + str(self.latitude))\n",
    "        print(\"longtitue: \" + str(self.longtitude))\n",
    "        print(\"around_stations: \" ,end='')\n",
    "        print(self.around_stations)\n",
    "    def getLines(self):\n",
    "        return self.lines\n",
    "    def getAroundSt(self):\n",
    "        return self.around_stations\n",
    "\n",
    " "
   ]
  },
  {
   "cell_type": "code",
   "execution_count": 22,
   "id": "698f7fda",
   "metadata": {},
   "outputs": [],
   "source": [
    "#충무로역 정보\n",
    "name = '충무로'\n",
    "lines = ['03호선', '04호선']\n",
    "latitude = 2400.0\n",
    "longtitude = 2400.0\n",
    "around_stations = {'03호선' : {'동대입구' : 2, '을지로3가' : 2}, '04호선' : {'동대문역사문화공원' : 2, '명동' : 2}}"
   ]
  },
  {
   "cell_type": "code",
   "execution_count": 23,
   "id": "353c861c",
   "metadata": {},
   "outputs": [
    {
     "name": "stdout",
     "output_type": "stream",
     "text": [
      "name: 충무로\n",
      "lines:  ['03호선', '04호선']\n",
      "latitude: 2400.0\n",
      "longtitue: 2400.0\n",
      "around_stations: {'03호선': {'동대입구': 2, '을지로3가': 2}, '04호선': {'동대문역사문화공원': 2, '명동': 2}}\n"
     ]
    }
   ],
   "source": [
    "st = Station(name, lines, latitude, longtitude, around_stations)\n",
    "st.print()"
   ]
  },
  {
   "cell_type": "code",
   "execution_count": 24,
   "id": "ab19505a",
   "metadata": {},
   "outputs": [],
   "source": [
    "around = st.getAroundSt()"
   ]
  },
  {
   "cell_type": "code",
   "execution_count": 32,
   "id": "a0ae1eb8",
   "metadata": {},
   "outputs": [],
   "source": [
    "items = around['03호선'].items()"
   ]
  }
 ],
 "metadata": {
  "kernelspec": {
   "display_name": "Python 3",
   "language": "python",
   "name": "python3"
  },
  "language_info": {
   "codemirror_mode": {
    "name": "ipython",
    "version": 3
   },
   "file_extension": ".py",
   "mimetype": "text/x-python",
   "name": "python",
   "nbconvert_exporter": "python",
   "pygments_lexer": "ipython3",
   "version": "3.7.10"
  }
 },
 "nbformat": 4,
 "nbformat_minor": 5
}
